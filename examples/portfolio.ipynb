{
 "cells": [
  {
   "cell_type": "markdown",
   "metadata": {},
   "source": [
    "# Portfolio Optimization\n",
    "\n",
    "This notebook can be run online without installing any packages. Just click the logo:\n",
    "\n",
    "[![Binder](https://mybinder.org/badge_logo.svg)](https://mybinder.org/v2/gh/mcdeoliveira/pyoptimum-examples/master?filepath=examples%2Fportfolio.ipynb)\n",
    "\n",
    "to run it on [binder](https://mybinder.org).\n",
    "\n",
    "See this [case study](http://vicbee.net/portfolio.html) for more details."
   ]
  },
  {
   "cell_type": "markdown",
   "metadata": {},
   "source": [
    "## Import needed libraries"
   ]
  },
  {
   "cell_type": "code",
   "execution_count": 1,
   "metadata": {
    "collapsed": true
   },
   "outputs": [],
   "source": [
    "import math\n",
    "import numpy as np\n",
    "import matplotlib.pyplot as plt\n",
    "import pandas as pd"
   ]
  },
  {
   "cell_type": "markdown",
   "metadata": {},
   "source": [
    "## Initialize optimize.vicbee.net client"
   ]
  },
  {
   "cell_type": "code",
   "execution_count": 2,
   "metadata": {
    "collapsed": true
   },
   "outputs": [],
   "source": [
    "username = 'demo@optimize.vicbee.net'\n",
    "password = 'optimize'"
   ]
  },
  {
   "cell_type": "code",
   "execution_count": 3,
   "metadata": {
    "collapsed": true
   },
   "outputs": [],
   "source": [
    "import pyoptimum # for easy access to the optimmize.vicbee.net api\n",
    "client = pyoptimum.Client(username=username, password=password)"
   ]
  },
  {
   "cell_type": "markdown",
   "metadata": {},
   "source": [
    "# Classic Markowitz Portfolio Optimization\n",
    "\n",
    "In the classic Markowitz optimal portfolio optimization (Markowitz, 1952), one seeks to determine \n",
    "* $x$: a vector of porfolio positions,\n",
    "\n",
    "that minimize the total portfolio variance given:\n",
    "* $r$: the vector of expected returns,\n",
    "* $Q$: the covariance matrix of the returns,\n",
    "* $\\mu$: the desired portfolio return.\n",
    "\n",
    "The problem can be formulated mathematically as the Quadratic Program (QP):\n",
    "$$\n",
    "\\begin{aligned}\n",
    "  \\min_{x} \\quad & x^T Q x \\\\\n",
    "  \\text{s.t.} \\quad & r^T x = \\mu \\\\\n",
    "  & \\sum_i{x_i} = 1 \n",
    "\\end{aligned}\n",
    "$$\n",
    "\n",
    "In this notebook we will show how one can setup and solve such portfolio optimization problems using the [Optimize API](https://optmize.vicbee.net/api/ui).\n",
    "\n",
    "Since we are using Python, we will take advantage of [numpy](https://numpy.org/) and [pandas](https://pandas.pydata.org/) to manipulate the data in this notebook. We will also use [matplotlib](https://matplotlib.org/) to plot the data. The use of such libraries or even Python is not a requirement for using the API, which can be accessed using <a href=\"https://en.wikipedia.org/wiki/Ajax_(programming)\">AJAX calls</a>. \n",
    "\n",
    "Data for the problem considered in this demo is taken from Elton and Gruber, 1995.\n",
    "\n",
    "### References:\n",
    "\n",
    "1. Harry M. Markowitz, “Portfolio Selection”. Journal of Finance, 7(1): 77 - 91, 1952.\n",
    "2. Edwin J. Elton and Martin J. Gruber, Modern Portfolio Theory and Investment Analysis. Fifth Edition, John Wiley and Sons, 1995.\n",
    "\n",
    "## Setup data using pandas\n",
    "\n",
    "Consider the following set of assets with associated expected return and return stadard deviation given as percentages assembled as a pandas DataFrame:"
   ]
  },
  {
   "cell_type": "code",
   "execution_count": 4,
   "metadata": {},
   "outputs": [
    {
     "data": {
      "text/html": [
       "<div>\n",
       "<style>\n",
       "    .dataframe thead tr:only-child th {\n",
       "        text-align: right;\n",
       "    }\n",
       "\n",
       "    .dataframe thead th {\n",
       "        text-align: left;\n",
       "    }\n",
       "\n",
       "    .dataframe tbody tr th {\n",
       "        vertical-align: top;\n",
       "    }\n",
       "</style>\n",
       "<table border=\"1\" class=\"dataframe\">\n",
       "  <thead>\n",
       "    <tr style=\"text-align: right;\">\n",
       "      <th></th>\n",
       "      <th>Label</th>\n",
       "      <th>Return (%)</th>\n",
       "      <th>STD (%)</th>\n",
       "    </tr>\n",
       "  </thead>\n",
       "  <tbody>\n",
       "    <tr>\n",
       "      <th>0</th>\n",
       "      <td>S &amp; P</td>\n",
       "      <td>14.0</td>\n",
       "      <td>18.5</td>\n",
       "    </tr>\n",
       "    <tr>\n",
       "      <th>1</th>\n",
       "      <td>Bonds</td>\n",
       "      <td>6.5</td>\n",
       "      <td>5.0</td>\n",
       "    </tr>\n",
       "    <tr>\n",
       "      <th>2</th>\n",
       "      <td>Canadian</td>\n",
       "      <td>11.0</td>\n",
       "      <td>16.0</td>\n",
       "    </tr>\n",
       "    <tr>\n",
       "      <th>3</th>\n",
       "      <td>Japan</td>\n",
       "      <td>14.0</td>\n",
       "      <td>23.0</td>\n",
       "    </tr>\n",
       "    <tr>\n",
       "      <th>4</th>\n",
       "      <td>Emerging Markets</td>\n",
       "      <td>16.0</td>\n",
       "      <td>30.0</td>\n",
       "    </tr>\n",
       "    <tr>\n",
       "      <th>5</th>\n",
       "      <td>Pacific</td>\n",
       "      <td>18.0</td>\n",
       "      <td>26.0</td>\n",
       "    </tr>\n",
       "    <tr>\n",
       "      <th>6</th>\n",
       "      <td>Europe</td>\n",
       "      <td>12.0</td>\n",
       "      <td>20.0</td>\n",
       "    </tr>\n",
       "    <tr>\n",
       "      <th>7</th>\n",
       "      <td>Small Stocks</td>\n",
       "      <td>17.0</td>\n",
       "      <td>24.0</td>\n",
       "    </tr>\n",
       "  </tbody>\n",
       "</table>\n",
       "</div>"
      ],
      "text/plain": [
       "              Label  Return (%)  STD (%)\n",
       "0             S & P        14.0     18.5\n",
       "1             Bonds         6.5      5.0\n",
       "2          Canadian        11.0     16.0\n",
       "3             Japan        14.0     23.0\n",
       "4  Emerging Markets        16.0     30.0\n",
       "5           Pacific        18.0     26.0\n",
       "6            Europe        12.0     20.0\n",
       "7      Small Stocks        17.0     24.0"
      ]
     },
     "execution_count": 4,
     "metadata": {},
     "output_type": "execute_result"
    }
   ],
   "source": [
    "data = [\n",
    "    ['S & P',14.0,18.5],\n",
    "    ['Bonds',6.5,5.0],\n",
    "    ['Canadian',11.0,16.0],\n",
    "    ['Japan',14.0,23.0],\n",
    "    ['Emerging Markets',16.0,30.0],\n",
    "    ['Pacific',18.0,26.0],\n",
    "    ['Europe',12.0,20.0],\n",
    "    ['Small Stocks',17.0,24.0] \n",
    "]\n",
    "assets = pd.DataFrame(data, columns=['Label', 'Return (%)', 'STD (%)'])\n",
    "assets"
   ]
  },
  {
   "cell_type": "markdown",
   "metadata": {},
   "source": [
    "The assets are associated with the following correlation coefficients:"
   ]
  },
  {
   "cell_type": "code",
   "execution_count": 5,
   "metadata": {},
   "outputs": [
    {
     "data": {
      "text/html": [
       "<div>\n",
       "<style>\n",
       "    .dataframe thead tr:only-child th {\n",
       "        text-align: right;\n",
       "    }\n",
       "\n",
       "    .dataframe thead th {\n",
       "        text-align: left;\n",
       "    }\n",
       "\n",
       "    .dataframe tbody tr th {\n",
       "        vertical-align: top;\n",
       "    }\n",
       "</style>\n",
       "<table border=\"1\" class=\"dataframe\">\n",
       "  <thead>\n",
       "    <tr style=\"text-align: right;\">\n",
       "      <th></th>\n",
       "      <th>S &amp; P</th>\n",
       "      <th>Bonds</th>\n",
       "      <th>Canadian</th>\n",
       "      <th>Japan</th>\n",
       "      <th>Emerging Markets</th>\n",
       "      <th>Pacific</th>\n",
       "      <th>Europe</th>\n",
       "      <th>Small Stocks</th>\n",
       "    </tr>\n",
       "  </thead>\n",
       "  <tbody>\n",
       "    <tr>\n",
       "      <th>S &amp; P</th>\n",
       "      <td>1.00</td>\n",
       "      <td>0.45</td>\n",
       "      <td>0.70</td>\n",
       "      <td>0.20</td>\n",
       "      <td>0.64</td>\n",
       "      <td>0.30</td>\n",
       "      <td>0.61</td>\n",
       "      <td>0.79</td>\n",
       "    </tr>\n",
       "    <tr>\n",
       "      <th>Bonds</th>\n",
       "      <td>0.45</td>\n",
       "      <td>1.00</td>\n",
       "      <td>0.27</td>\n",
       "      <td>-0.01</td>\n",
       "      <td>0.41</td>\n",
       "      <td>0.01</td>\n",
       "      <td>0.13</td>\n",
       "      <td>0.28</td>\n",
       "    </tr>\n",
       "    <tr>\n",
       "      <th>Canadian</th>\n",
       "      <td>0.70</td>\n",
       "      <td>0.27</td>\n",
       "      <td>1.00</td>\n",
       "      <td>0.14</td>\n",
       "      <td>0.51</td>\n",
       "      <td>0.29</td>\n",
       "      <td>0.48</td>\n",
       "      <td>0.59</td>\n",
       "    </tr>\n",
       "    <tr>\n",
       "      <th>Japan</th>\n",
       "      <td>0.20</td>\n",
       "      <td>-0.01</td>\n",
       "      <td>0.14</td>\n",
       "      <td>1.00</td>\n",
       "      <td>0.25</td>\n",
       "      <td>0.73</td>\n",
       "      <td>0.56</td>\n",
       "      <td>0.13</td>\n",
       "    </tr>\n",
       "    <tr>\n",
       "      <th>Emerging Markets</th>\n",
       "      <td>0.64</td>\n",
       "      <td>0.41</td>\n",
       "      <td>0.51</td>\n",
       "      <td>0.25</td>\n",
       "      <td>1.00</td>\n",
       "      <td>0.28</td>\n",
       "      <td>0.61</td>\n",
       "      <td>0.75</td>\n",
       "    </tr>\n",
       "    <tr>\n",
       "      <th>Pacific</th>\n",
       "      <td>0.30</td>\n",
       "      <td>0.01</td>\n",
       "      <td>0.29</td>\n",
       "      <td>0.73</td>\n",
       "      <td>0.28</td>\n",
       "      <td>1.00</td>\n",
       "      <td>0.54</td>\n",
       "      <td>0.16</td>\n",
       "    </tr>\n",
       "    <tr>\n",
       "      <th>Europe</th>\n",
       "      <td>0.61</td>\n",
       "      <td>0.13</td>\n",
       "      <td>0.48</td>\n",
       "      <td>0.56</td>\n",
       "      <td>0.61</td>\n",
       "      <td>0.54</td>\n",
       "      <td>1.00</td>\n",
       "      <td>0.44</td>\n",
       "    </tr>\n",
       "    <tr>\n",
       "      <th>Small Stocks</th>\n",
       "      <td>0.79</td>\n",
       "      <td>0.28</td>\n",
       "      <td>0.59</td>\n",
       "      <td>0.13</td>\n",
       "      <td>0.75</td>\n",
       "      <td>0.16</td>\n",
       "      <td>0.44</td>\n",
       "      <td>1.00</td>\n",
       "    </tr>\n",
       "  </tbody>\n",
       "</table>\n",
       "</div>"
      ],
      "text/plain": [
       "                  S & P  Bonds  Canadian  Japan  Emerging Markets  Pacific  \\\n",
       "S & P              1.00   0.45      0.70   0.20              0.64     0.30   \n",
       "Bonds              0.45   1.00      0.27  -0.01              0.41     0.01   \n",
       "Canadian           0.70   0.27      1.00   0.14              0.51     0.29   \n",
       "Japan              0.20  -0.01      0.14   1.00              0.25     0.73   \n",
       "Emerging Markets   0.64   0.41      0.51   0.25              1.00     0.28   \n",
       "Pacific            0.30   0.01      0.29   0.73              0.28     1.00   \n",
       "Europe             0.61   0.13      0.48   0.56              0.61     0.54   \n",
       "Small Stocks       0.79   0.28      0.59   0.13              0.75     0.16   \n",
       "\n",
       "                  Europe  Small Stocks  \n",
       "S & P               0.61          0.79  \n",
       "Bonds               0.13          0.28  \n",
       "Canadian            0.48          0.59  \n",
       "Japan               0.56          0.13  \n",
       "Emerging Markets    0.61          0.75  \n",
       "Pacific             0.54          0.16  \n",
       "Europe              1.00          0.44  \n",
       "Small Stocks        0.44          1.00  "
      ]
     },
     "execution_count": 5,
     "metadata": {},
     "output_type": "execute_result"
    }
   ],
   "source": [
    "n = len(assets)\n",
    "data = np.array([\n",
    "    [1,.45,.7,.2,.64,.3,.61,.79],\n",
    "    [.45,1,.27,-.01,.41,.01,.13,.28],\n",
    "    [.7,.27,1,.14,.51,.29,.48,.59],\n",
    "    [.2,-.01,.14,1,.25,.73,.56,.13],\n",
    "    [.64,.41,.51,.25,1,.28,.61,.75],\n",
    "    [.3,.01,.29,.73,.28,1,.54,.16],\n",
    "    [.61,.13,.48,.56,.61,.54,1,.44],\n",
    "    [.79,.28,.59,.13,.75,.16,.44,1]\n",
    "])\n",
    "cov = pd.DataFrame(data=data, columns=assets.Label.values, index=assets.Label.values)\n",
    "cov"
   ]
  },
  {
   "cell_type": "markdown",
   "metadata": {},
   "source": [
    "## Solve problem using the Optmize API\n",
    "\n",
    "Before solving the problem we need to assemble the required data, that is the vector of expected returns $r$, which can be taken directly from the data:"
   ]
  },
  {
   "cell_type": "code",
   "execution_count": 6,
   "metadata": {
    "collapsed": true
   },
   "outputs": [],
   "source": [
    "# vector of expected returns\n",
    "r = assets['Return (%)'].values"
   ]
  },
  {
   "cell_type": "markdown",
   "metadata": {},
   "source": [
    "the covariance matrix $Q$, which can be calculated from the given data as follows:"
   ]
  },
  {
   "cell_type": "code",
   "execution_count": 7,
   "metadata": {
    "collapsed": true
   },
   "outputs": [],
   "source": [
    "# covariance matrix\n",
    "sigmas = np.diag(assets['STD (%)'].values)\n",
    "Q = sigmas @ cov.values @ sigmas"
   ]
  },
  {
   "cell_type": "markdown",
   "metadata": {},
   "source": [
    "In the context of the classic Markowitz portfolio optimization we should also specify a desired expected return"
   ]
  },
  {
   "cell_type": "code",
   "execution_count": 8,
   "metadata": {
    "collapsed": true
   },
   "outputs": [],
   "source": [
    "# expected return\n",
    "mu = 14"
   ]
  },
  {
   "cell_type": "markdown",
   "metadata": {},
   "source": [
    "and then select a portfolio corresponding to this return with the smallest possible variance.\n",
    "\n",
    "The actual calculation of the optimal portfolio will be done on the cloud.\n",
    "\n",
    "\n",
    "## Submit problem to the api\n",
    "\n",
    "We assemble all the data in an object and make an api call to get the optimal portfolio:"
   ]
  },
  {
   "cell_type": "code",
   "execution_count": 9,
   "metadata": {},
   "outputs": [],
   "source": [
    "# prepare data for submitting request to api\n",
    "data = {\n",
    "    'Q': Q.tolist(),\n",
    "    'r': r.tolist(),\n",
    "    'mu': mu\n",
    "}\n",
    "sol = client.call('portfolio', data)"
   ]
  },
  {
   "cell_type": "markdown",
   "metadata": {},
   "source": [
    "Once an optimal solution is calculated we append it to the dataframe."
   ]
  },
  {
   "cell_type": "code",
   "execution_count": 10,
   "metadata": {
    "scrolled": true
   },
   "outputs": [
    {
     "name": "stdout",
     "output_type": "stream",
     "text": [
      "> Problem is feasible\n",
      "  * mu = 14.000%, std = 12.930% (optimal)\n"
     ]
    },
    {
     "data": {
      "text/html": [
       "<div>\n",
       "<style>\n",
       "    .dataframe thead tr:only-child th {\n",
       "        text-align: right;\n",
       "    }\n",
       "\n",
       "    .dataframe thead th {\n",
       "        text-align: left;\n",
       "    }\n",
       "\n",
       "    .dataframe tbody tr th {\n",
       "        vertical-align: top;\n",
       "    }\n",
       "</style>\n",
       "<table border=\"1\" class=\"dataframe\">\n",
       "  <thead>\n",
       "    <tr style=\"text-align: right;\">\n",
       "      <th></th>\n",
       "      <th>Label</th>\n",
       "      <th>Return (%)</th>\n",
       "      <th>STD (%)</th>\n",
       "      <th>Optimal (%)</th>\n",
       "    </tr>\n",
       "  </thead>\n",
       "  <tbody>\n",
       "    <tr>\n",
       "      <th>0</th>\n",
       "      <td>S &amp; P</td>\n",
       "      <td>14.00</td>\n",
       "      <td>18.50</td>\n",
       "      <td>5.32</td>\n",
       "    </tr>\n",
       "    <tr>\n",
       "      <th>1</th>\n",
       "      <td>Bonds</td>\n",
       "      <td>6.50</td>\n",
       "      <td>5.00</td>\n",
       "      <td>36.98</td>\n",
       "    </tr>\n",
       "    <tr>\n",
       "      <th>2</th>\n",
       "      <td>Canadian</td>\n",
       "      <td>11.00</td>\n",
       "      <td>16.00</td>\n",
       "      <td>-3.63</td>\n",
       "    </tr>\n",
       "    <tr>\n",
       "      <th>3</th>\n",
       "      <td>Japan</td>\n",
       "      <td>14.00</td>\n",
       "      <td>23.00</td>\n",
       "      <td>6.90</td>\n",
       "    </tr>\n",
       "    <tr>\n",
       "      <th>4</th>\n",
       "      <td>Emerging Markets</td>\n",
       "      <td>16.00</td>\n",
       "      <td>30.00</td>\n",
       "      <td>-11.96</td>\n",
       "    </tr>\n",
       "    <tr>\n",
       "      <th>5</th>\n",
       "      <td>Pacific</td>\n",
       "      <td>18.00</td>\n",
       "      <td>26.00</td>\n",
       "      <td>33.68</td>\n",
       "    </tr>\n",
       "    <tr>\n",
       "      <th>6</th>\n",
       "      <td>Europe</td>\n",
       "      <td>12.00</td>\n",
       "      <td>20.00</td>\n",
       "      <td>-11.51</td>\n",
       "    </tr>\n",
       "    <tr>\n",
       "      <th>7</th>\n",
       "      <td>Small Stocks</td>\n",
       "      <td>17.00</td>\n",
       "      <td>24.00</td>\n",
       "      <td>44.22</td>\n",
       "    </tr>\n",
       "  </tbody>\n",
       "</table>\n",
       "</div>"
      ],
      "text/plain": [
       "              Label  Return (%)  STD (%)  Optimal (%)\n",
       "0             S & P       14.00    18.50         5.32\n",
       "1             Bonds        6.50     5.00        36.98\n",
       "2          Canadian       11.00    16.00        -3.63\n",
       "3             Japan       14.00    23.00         6.90\n",
       "4  Emerging Markets       16.00    30.00       -11.96\n",
       "5           Pacific       18.00    26.00        33.68\n",
       "6            Europe       12.00    20.00       -11.51\n",
       "7      Small Stocks       17.00    24.00        44.22"
      ]
     },
     "execution_count": 10,
     "metadata": {},
     "output_type": "execute_result"
    }
   ],
   "source": [
    "if sol['status']=='infeasible':\n",
    "    print('> Problem is infeasible')\n",
    "    assets['Optimal (%)'] = np.nan\n",
    "else:\n",
    "    print('> Problem is feasible')\n",
    "    print('  * mu = {:.3f}%, std = {:.3f}% ({})'.format(mu, math.sqrt(sol['obj']), sol['status']))\n",
    "    pd.options.display.float_format = '{:,.2f}'.format\n",
    "    assets['Optimal (%)'] = 100*np.array(sol['x'])\n",
    "assets"
   ]
  },
  {
   "cell_type": "markdown",
   "metadata": {},
   "source": [
    "By default, the solution vector adds to one, each number being interpreted as the fraction of the available budget that should be invested in order to realize the optimal portfolio. We use numpy to convert that to a percentage before displaying the solution."
   ]
  },
  {
   "cell_type": "markdown",
   "metadata": {},
   "source": [
    "## Solution without short sales"
   ]
  },
  {
   "cell_type": "markdown",
   "metadata": {},
   "source": [
    "The minimum variance portfolio that meets a required level of expected return is often one in which the positions can be negative. Negative positions are realized as *short sales*.\n",
    "\n",
    "For example, in the problem solved above"
   ]
  },
  {
   "cell_type": "code",
   "execution_count": 11,
   "metadata": {},
   "outputs": [
    {
     "name": "stdout",
     "output_type": "stream",
     "text": [
      "27.10%\n"
     ]
    }
   ],
   "source": [
    "x = assets['Optimal (%)'];\n",
    "print('{:.2f}%'.format(-x[x < 0].sum()))"
   ]
  },
  {
   "cell_type": "markdown",
   "metadata": {},
   "source": [
    "of the portfolio is comprised of short sales.\n",
    "\n",
    "One can add constraints to the optimization problem in order to prevent short sales.\n",
    "\n",
    "This can be done by adding the following option:"
   ]
  },
  {
   "cell_type": "code",
   "execution_count": 12,
   "metadata": {
    "collapsed": true
   },
   "outputs": [],
   "source": [
    "# options\n",
    "options = {\n",
    "    'short': False\n",
    "}"
   ]
  },
  {
   "cell_type": "markdown",
   "metadata": {},
   "source": [
    "and calling the API once again"
   ]
  },
  {
   "cell_type": "code",
   "execution_count": 13,
   "metadata": {
    "collapsed": true
   },
   "outputs": [],
   "source": [
    "# prepare data for submitting request to api\n",
    "data = {\n",
    "    'Q': Q.tolist(),\n",
    "    'r': r.tolist(),\n",
    "    'mu': mu,\n",
    "    'options': options\n",
    "}\n",
    "sol = client.call('portfolio', data)"
   ]
  },
  {
   "cell_type": "markdown",
   "metadata": {},
   "source": [
    "The new solution"
   ]
  },
  {
   "cell_type": "code",
   "execution_count": 14,
   "metadata": {
    "scrolled": false
   },
   "outputs": [
    {
     "name": "stdout",
     "output_type": "stream",
     "text": [
      "> Problem is feasible\n",
      "  * mu = 14.000%, std = 13.365% (optimal)\n"
     ]
    },
    {
     "data": {
      "text/html": [
       "<div>\n",
       "<style>\n",
       "    .dataframe thead tr:only-child th {\n",
       "        text-align: right;\n",
       "    }\n",
       "\n",
       "    .dataframe thead th {\n",
       "        text-align: left;\n",
       "    }\n",
       "\n",
       "    .dataframe tbody tr th {\n",
       "        vertical-align: top;\n",
       "    }\n",
       "</style>\n",
       "<table border=\"1\" class=\"dataframe\">\n",
       "  <thead>\n",
       "    <tr style=\"text-align: right;\">\n",
       "      <th></th>\n",
       "      <th>Label</th>\n",
       "      <th>Return (%)</th>\n",
       "      <th>STD (%)</th>\n",
       "      <th>Optimal (%)</th>\n",
       "      <th>No Shorts (%)</th>\n",
       "    </tr>\n",
       "  </thead>\n",
       "  <tbody>\n",
       "    <tr>\n",
       "      <th>0</th>\n",
       "      <td>S &amp; P</td>\n",
       "      <td>14.00</td>\n",
       "      <td>18.50</td>\n",
       "      <td>5.32</td>\n",
       "      <td>0.00</td>\n",
       "    </tr>\n",
       "    <tr>\n",
       "      <th>1</th>\n",
       "      <td>Bonds</td>\n",
       "      <td>6.50</td>\n",
       "      <td>5.00</td>\n",
       "      <td>36.98</td>\n",
       "      <td>30.86</td>\n",
       "    </tr>\n",
       "    <tr>\n",
       "      <th>2</th>\n",
       "      <td>Canadian</td>\n",
       "      <td>11.00</td>\n",
       "      <td>16.00</td>\n",
       "      <td>-3.63</td>\n",
       "      <td>0.00</td>\n",
       "    </tr>\n",
       "    <tr>\n",
       "      <th>3</th>\n",
       "      <td>Japan</td>\n",
       "      <td>14.00</td>\n",
       "      <td>23.00</td>\n",
       "      <td>6.90</td>\n",
       "      <td>2.68</td>\n",
       "    </tr>\n",
       "    <tr>\n",
       "      <th>4</th>\n",
       "      <td>Emerging Markets</td>\n",
       "      <td>16.00</td>\n",
       "      <td>30.00</td>\n",
       "      <td>-11.96</td>\n",
       "      <td>0.00</td>\n",
       "    </tr>\n",
       "    <tr>\n",
       "      <th>5</th>\n",
       "      <td>Pacific</td>\n",
       "      <td>18.00</td>\n",
       "      <td>26.00</td>\n",
       "      <td>33.68</td>\n",
       "      <td>32.10</td>\n",
       "    </tr>\n",
       "    <tr>\n",
       "      <th>6</th>\n",
       "      <td>Europe</td>\n",
       "      <td>12.00</td>\n",
       "      <td>20.00</td>\n",
       "      <td>-11.51</td>\n",
       "      <td>0.00</td>\n",
       "    </tr>\n",
       "    <tr>\n",
       "      <th>7</th>\n",
       "      <td>Small Stocks</td>\n",
       "      <td>17.00</td>\n",
       "      <td>24.00</td>\n",
       "      <td>44.22</td>\n",
       "      <td>34.35</td>\n",
       "    </tr>\n",
       "  </tbody>\n",
       "</table>\n",
       "</div>"
      ],
      "text/plain": [
       "              Label  Return (%)  STD (%)  Optimal (%)  No Shorts (%)\n",
       "0             S & P       14.00    18.50         5.32           0.00\n",
       "1             Bonds        6.50     5.00        36.98          30.86\n",
       "2          Canadian       11.00    16.00        -3.63           0.00\n",
       "3             Japan       14.00    23.00         6.90           2.68\n",
       "4  Emerging Markets       16.00    30.00       -11.96           0.00\n",
       "5           Pacific       18.00    26.00        33.68          32.10\n",
       "6            Europe       12.00    20.00       -11.51           0.00\n",
       "7      Small Stocks       17.00    24.00        44.22          34.35"
      ]
     },
     "execution_count": 14,
     "metadata": {},
     "output_type": "execute_result"
    }
   ],
   "source": [
    "if sol['status']=='infeasible':\n",
    "    print('> Problem is infeasible')\n",
    "    assets['No Shorts (%)'] = np.nan\n",
    "else:\n",
    "    print('> Problem is feasible')\n",
    "    print('  * mu = {:.3f}%, std = {:.3f}% ({})'.format(mu, math.sqrt(sol['obj']), sol['status']))\n",
    "    assets['No Shorts (%)'] = 100*np.array(sol['x'])\n",
    "assets"
   ]
  },
  {
   "cell_type": "markdown",
   "metadata": {},
   "source": [
    "is one without short sales:"
   ]
  },
  {
   "cell_type": "code",
   "execution_count": 15,
   "metadata": {},
   "outputs": [
    {
     "name": "stdout",
     "output_type": "stream",
     "text": [
      "0.00%\n"
     ]
    }
   ],
   "source": [
    "x = assets['No Shorts (%)']\n",
    "print('{:.2f}%'.format(-x[x < 0].sum()))"
   ]
  },
  {
   "cell_type": "markdown",
   "metadata": {},
   "source": [
    "in which each every position is an asset purchase:"
   ]
  },
  {
   "cell_type": "code",
   "execution_count": 16,
   "metadata": {},
   "outputs": [
    {
     "name": "stdout",
     "output_type": "stream",
     "text": [
      "100.00%\n"
     ]
    }
   ],
   "source": [
    "print('{:.2f}%'.format(x.sum()))"
   ]
  },
  {
   "cell_type": "markdown",
   "metadata": {},
   "source": [
    "Note that the new portofolio is *riskier* than the optimal one with short sales."
   ]
  },
  {
   "cell_type": "markdown",
   "metadata": {},
   "source": [
    "## Accounting for cashflow"
   ]
  },
  {
   "cell_type": "markdown",
   "metadata": {},
   "source": [
    "Now suppose that one has an initial portfolio that they would like to rebalance, or buy or sell more assets.\n",
    "\n",
    "In this case, one starts with an initial positions, for example:"
   ]
  },
  {
   "cell_type": "code",
   "execution_count": 17,
   "metadata": {},
   "outputs": [
    {
     "data": {
      "text/html": [
       "<div>\n",
       "<style>\n",
       "    .dataframe thead tr:only-child th {\n",
       "        text-align: right;\n",
       "    }\n",
       "\n",
       "    .dataframe thead th {\n",
       "        text-align: left;\n",
       "    }\n",
       "\n",
       "    .dataframe tbody tr th {\n",
       "        vertical-align: top;\n",
       "    }\n",
       "</style>\n",
       "<table border=\"1\" class=\"dataframe\">\n",
       "  <thead>\n",
       "    <tr style=\"text-align: right;\">\n",
       "      <th></th>\n",
       "      <th>Label</th>\n",
       "      <th>Return (%)</th>\n",
       "      <th>STD (%)</th>\n",
       "      <th>Optimal (%)</th>\n",
       "      <th>No Shorts (%)</th>\n",
       "      <th>Initial (%)</th>\n",
       "    </tr>\n",
       "  </thead>\n",
       "  <tbody>\n",
       "    <tr>\n",
       "      <th>0</th>\n",
       "      <td>S &amp; P</td>\n",
       "      <td>14.00</td>\n",
       "      <td>18.50</td>\n",
       "      <td>5.32</td>\n",
       "      <td>0.00</td>\n",
       "      <td>20</td>\n",
       "    </tr>\n",
       "    <tr>\n",
       "      <th>1</th>\n",
       "      <td>Bonds</td>\n",
       "      <td>6.50</td>\n",
       "      <td>5.00</td>\n",
       "      <td>36.98</td>\n",
       "      <td>30.86</td>\n",
       "      <td>30</td>\n",
       "    </tr>\n",
       "    <tr>\n",
       "      <th>2</th>\n",
       "      <td>Canadian</td>\n",
       "      <td>11.00</td>\n",
       "      <td>16.00</td>\n",
       "      <td>-3.63</td>\n",
       "      <td>0.00</td>\n",
       "      <td>0</td>\n",
       "    </tr>\n",
       "    <tr>\n",
       "      <th>3</th>\n",
       "      <td>Japan</td>\n",
       "      <td>14.00</td>\n",
       "      <td>23.00</td>\n",
       "      <td>6.90</td>\n",
       "      <td>2.68</td>\n",
       "      <td>20</td>\n",
       "    </tr>\n",
       "    <tr>\n",
       "      <th>4</th>\n",
       "      <td>Emerging Markets</td>\n",
       "      <td>16.00</td>\n",
       "      <td>30.00</td>\n",
       "      <td>-11.96</td>\n",
       "      <td>0.00</td>\n",
       "      <td>0</td>\n",
       "    </tr>\n",
       "    <tr>\n",
       "      <th>5</th>\n",
       "      <td>Pacific</td>\n",
       "      <td>18.00</td>\n",
       "      <td>26.00</td>\n",
       "      <td>33.68</td>\n",
       "      <td>32.10</td>\n",
       "      <td>10</td>\n",
       "    </tr>\n",
       "    <tr>\n",
       "      <th>6</th>\n",
       "      <td>Europe</td>\n",
       "      <td>12.00</td>\n",
       "      <td>20.00</td>\n",
       "      <td>-11.51</td>\n",
       "      <td>0.00</td>\n",
       "      <td>0</td>\n",
       "    </tr>\n",
       "    <tr>\n",
       "      <th>7</th>\n",
       "      <td>Small Stocks</td>\n",
       "      <td>17.00</td>\n",
       "      <td>24.00</td>\n",
       "      <td>44.22</td>\n",
       "      <td>34.35</td>\n",
       "      <td>20</td>\n",
       "    </tr>\n",
       "  </tbody>\n",
       "</table>\n",
       "</div>"
      ],
      "text/plain": [
       "              Label  Return (%)  STD (%)  Optimal (%)  No Shorts (%)  \\\n",
       "0             S & P       14.00    18.50         5.32           0.00   \n",
       "1             Bonds        6.50     5.00        36.98          30.86   \n",
       "2          Canadian       11.00    16.00        -3.63           0.00   \n",
       "3             Japan       14.00    23.00         6.90           2.68   \n",
       "4  Emerging Markets       16.00    30.00       -11.96           0.00   \n",
       "5           Pacific       18.00    26.00        33.68          32.10   \n",
       "6            Europe       12.00    20.00       -11.51           0.00   \n",
       "7      Small Stocks       17.00    24.00        44.22          34.35   \n",
       "\n",
       "   Initial (%)  \n",
       "0           20  \n",
       "1           30  \n",
       "2            0  \n",
       "3           20  \n",
       "4            0  \n",
       "5           10  \n",
       "6            0  \n",
       "7           20  "
      ]
     },
     "execution_count": 17,
     "metadata": {},
     "output_type": "execute_result"
    }
   ],
   "source": [
    "assets['Initial (%)'] = [20, 30, 0, 20, 0, 10, 0, 20]\n",
    "assets"
   ]
  },
  {
   "cell_type": "markdown",
   "metadata": {},
   "source": [
    "An optimal portfolio will not change depending on whether one holds assets or not, so the answers obtained so far should not be affected by the existing holdings.\n",
    "\n",
    "However, imagine that one has cash to invest and would like to know what is the best solution for investing the additional money without selling any of their assets.\n",
    "\n",
    "One can take that scenario into account by adding an initial portfolio:"
   ]
  },
  {
   "cell_type": "code",
   "execution_count": 18,
   "metadata": {
    "collapsed": true
   },
   "outputs": [],
   "source": [
    "# initial portfolio\n",
    "x0 = assets['Initial (%)'].values/100"
   ]
  },
  {
   "cell_type": "markdown",
   "metadata": {},
   "source": [
    "and the desired *cashflow*, say equivalent to 40% of the existing portfolio,"
   ]
  },
  {
   "cell_type": "code",
   "execution_count": 19,
   "metadata": {
    "collapsed": true
   },
   "outputs": [],
   "source": [
    "# cashflow\n",
    "cashflow = 40/100"
   ]
  },
  {
   "cell_type": "markdown",
   "metadata": {},
   "source": [
    "along with the other data:"
   ]
  },
  {
   "cell_type": "code",
   "execution_count": 20,
   "metadata": {
    "collapsed": true
   },
   "outputs": [],
   "source": [
    "# expected return\n",
    "mu = 14\n",
    "\n",
    "# options\n",
    "options = {\n",
    "    'sell': False \n",
    "}\n",
    "\n",
    "# prepare data for submitting request to api\n",
    "data = {\n",
    "    'Q': Q.tolist(),\n",
    "    'r': r.tolist(),\n",
    "    'mu': mu,\n",
    "    'x0': x0.tolist(),\n",
    "    'cashflow': cashflow,\n",
    "    'options': options\n",
    "}\n",
    "sol = client.call('portfolio', data)"
   ]
  },
  {
   "cell_type": "markdown",
   "metadata": {},
   "source": [
    "The optimal solution now is in the form of additional *buys* that need to be realized within the specified cashflow to achieve the desired return:"
   ]
  },
  {
   "cell_type": "code",
   "execution_count": 21,
   "metadata": {
    "scrolled": true
   },
   "outputs": [
    {
     "name": "stdout",
     "output_type": "stream",
     "text": [
      "> Problem is feasible\n",
      "  * mu = 14.000%, std = 13.586% (optimal)\n"
     ]
    },
    {
     "data": {
      "text/html": [
       "<div>\n",
       "<style>\n",
       "    .dataframe thead tr:only-child th {\n",
       "        text-align: right;\n",
       "    }\n",
       "\n",
       "    .dataframe thead th {\n",
       "        text-align: left;\n",
       "    }\n",
       "\n",
       "    .dataframe tbody tr th {\n",
       "        vertical-align: top;\n",
       "    }\n",
       "</style>\n",
       "<table border=\"1\" class=\"dataframe\">\n",
       "  <thead>\n",
       "    <tr style=\"text-align: right;\">\n",
       "      <th></th>\n",
       "      <th>Label</th>\n",
       "      <th>Return (%)</th>\n",
       "      <th>STD (%)</th>\n",
       "      <th>Optimal (%)</th>\n",
       "      <th>No Shorts (%)</th>\n",
       "      <th>Initial (%)</th>\n",
       "      <th>Buys (%)</th>\n",
       "      <th>After Cashflow (%)</th>\n",
       "    </tr>\n",
       "  </thead>\n",
       "  <tbody>\n",
       "    <tr>\n",
       "      <th>0</th>\n",
       "      <td>S &amp; P</td>\n",
       "      <td>14.00</td>\n",
       "      <td>18.50</td>\n",
       "      <td>5.32</td>\n",
       "      <td>0.00</td>\n",
       "      <td>20</td>\n",
       "      <td>-0.00</td>\n",
       "      <td>14.29</td>\n",
       "    </tr>\n",
       "    <tr>\n",
       "      <th>1</th>\n",
       "      <td>Bonds</td>\n",
       "      <td>6.50</td>\n",
       "      <td>5.00</td>\n",
       "      <td>36.98</td>\n",
       "      <td>30.86</td>\n",
       "      <td>30</td>\n",
       "      <td>3.98</td>\n",
       "      <td>22.57</td>\n",
       "    </tr>\n",
       "    <tr>\n",
       "      <th>2</th>\n",
       "      <td>Canadian</td>\n",
       "      <td>11.00</td>\n",
       "      <td>16.00</td>\n",
       "      <td>-3.63</td>\n",
       "      <td>0.00</td>\n",
       "      <td>0</td>\n",
       "      <td>-0.00</td>\n",
       "      <td>-0.00</td>\n",
       "    </tr>\n",
       "    <tr>\n",
       "      <th>3</th>\n",
       "      <td>Japan</td>\n",
       "      <td>14.00</td>\n",
       "      <td>23.00</td>\n",
       "      <td>6.90</td>\n",
       "      <td>2.68</td>\n",
       "      <td>20</td>\n",
       "      <td>-0.00</td>\n",
       "      <td>14.29</td>\n",
       "    </tr>\n",
       "    <tr>\n",
       "      <th>4</th>\n",
       "      <td>Emerging Markets</td>\n",
       "      <td>16.00</td>\n",
       "      <td>30.00</td>\n",
       "      <td>-11.96</td>\n",
       "      <td>0.00</td>\n",
       "      <td>0</td>\n",
       "      <td>-0.00</td>\n",
       "      <td>-0.00</td>\n",
       "    </tr>\n",
       "    <tr>\n",
       "      <th>5</th>\n",
       "      <td>Pacific</td>\n",
       "      <td>18.00</td>\n",
       "      <td>26.00</td>\n",
       "      <td>33.68</td>\n",
       "      <td>32.10</td>\n",
       "      <td>10</td>\n",
       "      <td>54.29</td>\n",
       "      <td>22.65</td>\n",
       "    </tr>\n",
       "    <tr>\n",
       "      <th>6</th>\n",
       "      <td>Europe</td>\n",
       "      <td>12.00</td>\n",
       "      <td>20.00</td>\n",
       "      <td>-11.51</td>\n",
       "      <td>0.00</td>\n",
       "      <td>0</td>\n",
       "      <td>-0.00</td>\n",
       "      <td>-0.00</td>\n",
       "    </tr>\n",
       "    <tr>\n",
       "      <th>7</th>\n",
       "      <td>Small Stocks</td>\n",
       "      <td>17.00</td>\n",
       "      <td>24.00</td>\n",
       "      <td>44.22</td>\n",
       "      <td>34.35</td>\n",
       "      <td>20</td>\n",
       "      <td>41.73</td>\n",
       "      <td>26.21</td>\n",
       "    </tr>\n",
       "  </tbody>\n",
       "</table>\n",
       "</div>"
      ],
      "text/plain": [
       "              Label  Return (%)  STD (%)  Optimal (%)  No Shorts (%)  \\\n",
       "0             S & P       14.00    18.50         5.32           0.00   \n",
       "1             Bonds        6.50     5.00        36.98          30.86   \n",
       "2          Canadian       11.00    16.00        -3.63           0.00   \n",
       "3             Japan       14.00    23.00         6.90           2.68   \n",
       "4  Emerging Markets       16.00    30.00       -11.96           0.00   \n",
       "5           Pacific       18.00    26.00        33.68          32.10   \n",
       "6            Europe       12.00    20.00       -11.51           0.00   \n",
       "7      Small Stocks       17.00    24.00        44.22          34.35   \n",
       "\n",
       "   Initial (%)  Buys (%)  After Cashflow (%)  \n",
       "0           20     -0.00               14.29  \n",
       "1           30      3.98               22.57  \n",
       "2            0     -0.00               -0.00  \n",
       "3           20     -0.00               14.29  \n",
       "4            0     -0.00               -0.00  \n",
       "5           10     54.29               22.65  \n",
       "6            0     -0.00               -0.00  \n",
       "7           20     41.73               26.21  "
      ]
     },
     "execution_count": 21,
     "metadata": {},
     "output_type": "execute_result"
    }
   ],
   "source": [
    "if sol['status']=='infeasible':\n",
    "    print('> Problem is infeasible')\n",
    "    assets['Buys (%)'] = np.nan\n",
    "    assets['After Cashflow (%)'] = np.nan\n",
    "else:\n",
    "    print('> Problem is feasible')\n",
    "    print('  * mu = {:.3f}%, std = {:.3f}% ({})'.format(mu, math.sqrt(sol['obj']), sol['status']))\n",
    "    x = np.array(sol['x'])\n",
    "    assets['Buys (%)'] = 100*(x - x0)/cashflow\n",
    "    assets['After Cashflow (%)'] = 100*x/x.sum()\n",
    "assets"
   ]
  },
  {
   "cell_type": "markdown",
   "metadata": {},
   "source": [
    "## Infeasible portfolio problems\n",
    "\n",
    "As one add more constraints, it is often the case that certain problems become unsolvable.\n",
    "\n",
    "For example, in the above cashflow problem, a solution does not exist if one lowers the ammount available for investment. For example, lowering the available cashflow to 10% or even 20% as in:"
   ]
  },
  {
   "cell_type": "code",
   "execution_count": 22,
   "metadata": {
    "collapsed": true
   },
   "outputs": [],
   "source": [
    "# initial portfolio\n",
    "x0 = assets['Initial (%)'].values/100\n",
    "\n",
    "# cashflow\n",
    "cashflow = 20/100\n",
    "\n",
    "# expected return\n",
    "mu = 14\n",
    "\n",
    "# options\n",
    "options = {\n",
    "    'sell': False \n",
    "}\n",
    "\n",
    "# prepare data for submitting request to api\n",
    "data = {\n",
    "    'Q': Q.tolist(),\n",
    "    'r': r.tolist(),\n",
    "    'mu': mu,\n",
    "    'x0': x0.tolist(),\n",
    "    'cashflow': cashflow,\n",
    "    'options': options\n",
    "}\n",
    "sol = client.call('portfolio', data)"
   ]
  },
  {
   "cell_type": "markdown",
   "metadata": {},
   "source": [
    "results in an *infeasible* problem:"
   ]
  },
  {
   "cell_type": "code",
   "execution_count": 23,
   "metadata": {
    "scrolled": true
   },
   "outputs": [
    {
     "name": "stdout",
     "output_type": "stream",
     "text": [
      "> Problem is infeasible\n"
     ]
    },
    {
     "data": {
      "text/html": [
       "<div>\n",
       "<style>\n",
       "    .dataframe thead tr:only-child th {\n",
       "        text-align: right;\n",
       "    }\n",
       "\n",
       "    .dataframe thead th {\n",
       "        text-align: left;\n",
       "    }\n",
       "\n",
       "    .dataframe tbody tr th {\n",
       "        vertical-align: top;\n",
       "    }\n",
       "</style>\n",
       "<table border=\"1\" class=\"dataframe\">\n",
       "  <thead>\n",
       "    <tr style=\"text-align: right;\">\n",
       "      <th></th>\n",
       "      <th>Label</th>\n",
       "      <th>Return (%)</th>\n",
       "      <th>STD (%)</th>\n",
       "      <th>Optimal (%)</th>\n",
       "      <th>No Shorts (%)</th>\n",
       "      <th>Initial (%)</th>\n",
       "      <th>Buys (%)</th>\n",
       "      <th>After Cashflow (%)</th>\n",
       "    </tr>\n",
       "  </thead>\n",
       "  <tbody>\n",
       "    <tr>\n",
       "      <th>0</th>\n",
       "      <td>S &amp; P</td>\n",
       "      <td>14.00</td>\n",
       "      <td>18.50</td>\n",
       "      <td>5.32</td>\n",
       "      <td>0.00</td>\n",
       "      <td>20</td>\n",
       "      <td>nan</td>\n",
       "      <td>nan</td>\n",
       "    </tr>\n",
       "    <tr>\n",
       "      <th>1</th>\n",
       "      <td>Bonds</td>\n",
       "      <td>6.50</td>\n",
       "      <td>5.00</td>\n",
       "      <td>36.98</td>\n",
       "      <td>30.86</td>\n",
       "      <td>30</td>\n",
       "      <td>nan</td>\n",
       "      <td>nan</td>\n",
       "    </tr>\n",
       "    <tr>\n",
       "      <th>2</th>\n",
       "      <td>Canadian</td>\n",
       "      <td>11.00</td>\n",
       "      <td>16.00</td>\n",
       "      <td>-3.63</td>\n",
       "      <td>0.00</td>\n",
       "      <td>0</td>\n",
       "      <td>nan</td>\n",
       "      <td>nan</td>\n",
       "    </tr>\n",
       "    <tr>\n",
       "      <th>3</th>\n",
       "      <td>Japan</td>\n",
       "      <td>14.00</td>\n",
       "      <td>23.00</td>\n",
       "      <td>6.90</td>\n",
       "      <td>2.68</td>\n",
       "      <td>20</td>\n",
       "      <td>nan</td>\n",
       "      <td>nan</td>\n",
       "    </tr>\n",
       "    <tr>\n",
       "      <th>4</th>\n",
       "      <td>Emerging Markets</td>\n",
       "      <td>16.00</td>\n",
       "      <td>30.00</td>\n",
       "      <td>-11.96</td>\n",
       "      <td>0.00</td>\n",
       "      <td>0</td>\n",
       "      <td>nan</td>\n",
       "      <td>nan</td>\n",
       "    </tr>\n",
       "    <tr>\n",
       "      <th>5</th>\n",
       "      <td>Pacific</td>\n",
       "      <td>18.00</td>\n",
       "      <td>26.00</td>\n",
       "      <td>33.68</td>\n",
       "      <td>32.10</td>\n",
       "      <td>10</td>\n",
       "      <td>nan</td>\n",
       "      <td>nan</td>\n",
       "    </tr>\n",
       "    <tr>\n",
       "      <th>6</th>\n",
       "      <td>Europe</td>\n",
       "      <td>12.00</td>\n",
       "      <td>20.00</td>\n",
       "      <td>-11.51</td>\n",
       "      <td>0.00</td>\n",
       "      <td>0</td>\n",
       "      <td>nan</td>\n",
       "      <td>nan</td>\n",
       "    </tr>\n",
       "    <tr>\n",
       "      <th>7</th>\n",
       "      <td>Small Stocks</td>\n",
       "      <td>17.00</td>\n",
       "      <td>24.00</td>\n",
       "      <td>44.22</td>\n",
       "      <td>34.35</td>\n",
       "      <td>20</td>\n",
       "      <td>nan</td>\n",
       "      <td>nan</td>\n",
       "    </tr>\n",
       "  </tbody>\n",
       "</table>\n",
       "</div>"
      ],
      "text/plain": [
       "              Label  Return (%)  STD (%)  Optimal (%)  No Shorts (%)  \\\n",
       "0             S & P       14.00    18.50         5.32           0.00   \n",
       "1             Bonds        6.50     5.00        36.98          30.86   \n",
       "2          Canadian       11.00    16.00        -3.63           0.00   \n",
       "3             Japan       14.00    23.00         6.90           2.68   \n",
       "4  Emerging Markets       16.00    30.00       -11.96           0.00   \n",
       "5           Pacific       18.00    26.00        33.68          32.10   \n",
       "6            Europe       12.00    20.00       -11.51           0.00   \n",
       "7      Small Stocks       17.00    24.00        44.22          34.35   \n",
       "\n",
       "   Initial (%)  Buys (%)  After Cashflow (%)  \n",
       "0           20       nan                 nan  \n",
       "1           30       nan                 nan  \n",
       "2            0       nan                 nan  \n",
       "3           20       nan                 nan  \n",
       "4            0       nan                 nan  \n",
       "5           10       nan                 nan  \n",
       "6            0       nan                 nan  \n",
       "7           20       nan                 nan  "
      ]
     },
     "execution_count": 23,
     "metadata": {},
     "output_type": "execute_result"
    }
   ],
   "source": [
    "if sol['status']=='infeasible':\n",
    "    print('> Problem is infeasible')\n",
    "    assets['Buys (%)'] = np.nan\n",
    "    assets['After Cashflow (%)'] = np.nan\n",
    "else:\n",
    "    print('> Problem is feasible')\n",
    "    print('  * mu = {:.3f}%, std = {:.3f}% ({})'.format(mu, math.sqrt(sol['obj']), sol['status']))\n",
    "    x = np.array(sol['x'])\n",
    "    assets['Buys (%)'] = 100*(x - x0)/cashflow\n",
    "    assets['After Cashflow (%)'] = 100*x/x.sum()\n",
    "assets"
   ]
  },
  {
   "cell_type": "markdown",
   "metadata": {},
   "source": [
    "Of course the reason why the problem has no solution is because the return of the initial portfolio:"
   ]
  },
  {
   "cell_type": "code",
   "execution_count": 24,
   "metadata": {},
   "outputs": [
    {
     "name": "stdout",
     "output_type": "stream",
     "text": [
      "12.75%\n"
     ]
    }
   ],
   "source": [
    "print('{:.2f}%'.format(r @ x0))"
   ]
  },
  {
   "cell_type": "markdown",
   "metadata": {},
   "source": [
    " is much lower than the return asked of the optimization, which was of 14%.\n",
    " \n",
    " In this particular case, one should expect to obtain solutions with smaller cashflows if one asks for more modest returns.\n",
    " \n",
    " For example, a modest improvement in return from 12.75% to 13% is available with a 10% or 20% cashflow:"
   ]
  },
  {
   "cell_type": "code",
   "execution_count": 25,
   "metadata": {
    "collapsed": true
   },
   "outputs": [],
   "source": [
    "# initial portfolio\n",
    "x0 = assets['Initial (%)'].values/100\n",
    "\n",
    "# cashflow\n",
    "cashflow = 20/100\n",
    "\n",
    "# lower return\n",
    "mu = 13\n",
    "\n",
    "# options\n",
    "options = {\n",
    "    'sell': False \n",
    "}\n",
    "\n",
    "# prepare data for submitting request to api\n",
    "data = {\n",
    "    'Q': Q.tolist(),\n",
    "    'r': r.tolist(),\n",
    "    'mu': mu,\n",
    "    'x0': x0.tolist(),\n",
    "    'cashflow': cashflow,\n",
    "    'options': options\n",
    "}\n",
    "sol = client.call('portfolio', data)"
   ]
  },
  {
   "cell_type": "markdown",
   "metadata": {},
   "source": [
    "The obtained optimal portfolio:"
   ]
  },
  {
   "cell_type": "code",
   "execution_count": 26,
   "metadata": {
    "scrolled": true
   },
   "outputs": [
    {
     "name": "stdout",
     "output_type": "stream",
     "text": [
      "> Problem is feasible\n",
      "  * mu = 13.000%, std = 12.153% (optimal)\n"
     ]
    },
    {
     "data": {
      "text/html": [
       "<div>\n",
       "<style>\n",
       "    .dataframe thead tr:only-child th {\n",
       "        text-align: right;\n",
       "    }\n",
       "\n",
       "    .dataframe thead th {\n",
       "        text-align: left;\n",
       "    }\n",
       "\n",
       "    .dataframe tbody tr th {\n",
       "        vertical-align: top;\n",
       "    }\n",
       "</style>\n",
       "<table border=\"1\" class=\"dataframe\">\n",
       "  <thead>\n",
       "    <tr style=\"text-align: right;\">\n",
       "      <th></th>\n",
       "      <th>Label</th>\n",
       "      <th>Return (%)</th>\n",
       "      <th>STD (%)</th>\n",
       "      <th>Optimal (%)</th>\n",
       "      <th>No Shorts (%)</th>\n",
       "      <th>Initial (%)</th>\n",
       "      <th>Buys (%)</th>\n",
       "      <th>After Cashflow (%)</th>\n",
       "    </tr>\n",
       "  </thead>\n",
       "  <tbody>\n",
       "    <tr>\n",
       "      <th>0</th>\n",
       "      <td>S &amp; P</td>\n",
       "      <td>14.00</td>\n",
       "      <td>18.50</td>\n",
       "      <td>5.32</td>\n",
       "      <td>0.00</td>\n",
       "      <td>20</td>\n",
       "      <td>0.00</td>\n",
       "      <td>16.67</td>\n",
       "    </tr>\n",
       "    <tr>\n",
       "      <th>1</th>\n",
       "      <td>Bonds</td>\n",
       "      <td>6.50</td>\n",
       "      <td>5.00</td>\n",
       "      <td>36.98</td>\n",
       "      <td>30.86</td>\n",
       "      <td>30</td>\n",
       "      <td>30.95</td>\n",
       "      <td>30.16</td>\n",
       "    </tr>\n",
       "    <tr>\n",
       "      <th>2</th>\n",
       "      <td>Canadian</td>\n",
       "      <td>11.00</td>\n",
       "      <td>16.00</td>\n",
       "      <td>-3.63</td>\n",
       "      <td>0.00</td>\n",
       "      <td>0</td>\n",
       "      <td>-0.00</td>\n",
       "      <td>-0.00</td>\n",
       "    </tr>\n",
       "    <tr>\n",
       "      <th>3</th>\n",
       "      <td>Japan</td>\n",
       "      <td>14.00</td>\n",
       "      <td>23.00</td>\n",
       "      <td>6.90</td>\n",
       "      <td>2.68</td>\n",
       "      <td>20</td>\n",
       "      <td>0.00</td>\n",
       "      <td>16.67</td>\n",
       "    </tr>\n",
       "    <tr>\n",
       "      <th>4</th>\n",
       "      <td>Emerging Markets</td>\n",
       "      <td>16.00</td>\n",
       "      <td>30.00</td>\n",
       "      <td>-11.96</td>\n",
       "      <td>0.00</td>\n",
       "      <td>0</td>\n",
       "      <td>-0.00</td>\n",
       "      <td>-0.00</td>\n",
       "    </tr>\n",
       "    <tr>\n",
       "      <th>5</th>\n",
       "      <td>Pacific</td>\n",
       "      <td>18.00</td>\n",
       "      <td>26.00</td>\n",
       "      <td>33.68</td>\n",
       "      <td>32.10</td>\n",
       "      <td>10</td>\n",
       "      <td>49.96</td>\n",
       "      <td>16.66</td>\n",
       "    </tr>\n",
       "    <tr>\n",
       "      <th>6</th>\n",
       "      <td>Europe</td>\n",
       "      <td>12.00</td>\n",
       "      <td>20.00</td>\n",
       "      <td>-11.51</td>\n",
       "      <td>0.00</td>\n",
       "      <td>0</td>\n",
       "      <td>-0.00</td>\n",
       "      <td>-0.00</td>\n",
       "    </tr>\n",
       "    <tr>\n",
       "      <th>7</th>\n",
       "      <td>Small Stocks</td>\n",
       "      <td>17.00</td>\n",
       "      <td>24.00</td>\n",
       "      <td>44.22</td>\n",
       "      <td>34.35</td>\n",
       "      <td>20</td>\n",
       "      <td>19.09</td>\n",
       "      <td>19.85</td>\n",
       "    </tr>\n",
       "  </tbody>\n",
       "</table>\n",
       "</div>"
      ],
      "text/plain": [
       "              Label  Return (%)  STD (%)  Optimal (%)  No Shorts (%)  \\\n",
       "0             S & P       14.00    18.50         5.32           0.00   \n",
       "1             Bonds        6.50     5.00        36.98          30.86   \n",
       "2          Canadian       11.00    16.00        -3.63           0.00   \n",
       "3             Japan       14.00    23.00         6.90           2.68   \n",
       "4  Emerging Markets       16.00    30.00       -11.96           0.00   \n",
       "5           Pacific       18.00    26.00        33.68          32.10   \n",
       "6            Europe       12.00    20.00       -11.51           0.00   \n",
       "7      Small Stocks       17.00    24.00        44.22          34.35   \n",
       "\n",
       "   Initial (%)  Buys (%)  After Cashflow (%)  \n",
       "0           20      0.00               16.67  \n",
       "1           30     30.95               30.16  \n",
       "2            0     -0.00               -0.00  \n",
       "3           20      0.00               16.67  \n",
       "4            0     -0.00               -0.00  \n",
       "5           10     49.96               16.66  \n",
       "6            0     -0.00               -0.00  \n",
       "7           20     19.09               19.85  "
      ]
     },
     "execution_count": 26,
     "metadata": {},
     "output_type": "execute_result"
    }
   ],
   "source": [
    "if sol['status']=='infeasible':\n",
    "    print('> Problem is infeasible')\n",
    "    assets['Buys (%)'] = np.nan\n",
    "    assets['After Cashflow (%)'] = np.nan\n",
    "else:\n",
    "    print('> Problem is feasible')\n",
    "    print('  * mu = {:.3f}%, std = {:.3f}% ({})'.format(mu, math.sqrt(sol['obj']), sol['status']))\n",
    "    x = np.array(sol['x'])\n",
    "    assets['Buys (%)'] = 100*(x - x0)/cashflow\n",
    "    assets['After Cashflow (%)'] = 100*x/x.sum()\n",
    "assets"
   ]
  },
  {
   "cell_type": "markdown",
   "metadata": {},
   "source": [
    "is a step toward improving the returns with the available cashflow.\n",
    "\n",
    "We will revisit this problem later in this notebook after showing how to calculate efficient frontiers.\n",
    "\n",
    "## General constraints\n",
    "\n",
    "It is also possible to specify arbitrary constraints on sets of assets.\n",
    "\n",
    "For example, consider the that one desires an optimal portfolio with no cashflow, no shorts, but at least 50% of their assets on the combined S & P and Bond markets. Such a problem can be formulated after defining a set and corresponding constraint:"
   ]
  },
  {
   "cell_type": "code",
   "execution_count": 27,
   "metadata": {
    "collapsed": true
   },
   "outputs": [],
   "source": [
    "set1 = {'label': 's&p_bonds_set', 'indices': [0, 1]}\n",
    "constraint1 = {'label': 's&p_bonds', 'set': 's&p_bonds_set', 'bounds': [.5, np.inf]}"
   ]
  },
  {
   "cell_type": "markdown",
   "metadata": {},
   "source": [
    "Note how sets are defined using numeric indices (starting from 0), and the constraint bounds estalish the lower and upper bound on the sum of the assets in the set.\n",
    "\n",
    "The resulting constrained problem can be solved as before:"
   ]
  },
  {
   "cell_type": "code",
   "execution_count": 28,
   "metadata": {
    "collapsed": true
   },
   "outputs": [],
   "source": [
    "# Expected return\n",
    "mu = 14\n",
    "\n",
    "# options\n",
    "options = {\n",
    "    'short': False \n",
    "}\n",
    "\n",
    "# prepare data for submitting request to api\n",
    "data = {\n",
    "    'Q': Q.tolist(),\n",
    "    'r': r.tolist(),\n",
    "    'mu': mu,\n",
    "    'sets': [set1],\n",
    "    'constraints': [constraint1],\n",
    "    'options': options\n",
    "}\n",
    "sol = client.call('portfolio', data)"
   ]
  },
  {
   "cell_type": "markdown",
   "metadata": {},
   "source": [
    "The obtained optimal portfolio:"
   ]
  },
  {
   "cell_type": "code",
   "execution_count": 29,
   "metadata": {
    "scrolled": true
   },
   "outputs": [
    {
     "name": "stdout",
     "output_type": "stream",
     "text": [
      "> Problem is feasible\n",
      "  * mu = 14.000%, std = 13.710% (optimal)\n"
     ]
    },
    {
     "data": {
      "text/html": [
       "<div>\n",
       "<style>\n",
       "    .dataframe thead tr:only-child th {\n",
       "        text-align: right;\n",
       "    }\n",
       "\n",
       "    .dataframe thead th {\n",
       "        text-align: left;\n",
       "    }\n",
       "\n",
       "    .dataframe tbody tr th {\n",
       "        vertical-align: top;\n",
       "    }\n",
       "</style>\n",
       "<table border=\"1\" class=\"dataframe\">\n",
       "  <thead>\n",
       "    <tr style=\"text-align: right;\">\n",
       "      <th></th>\n",
       "      <th>Label</th>\n",
       "      <th>Return (%)</th>\n",
       "      <th>STD (%)</th>\n",
       "      <th>Optimal (%)</th>\n",
       "      <th>No Shorts (%)</th>\n",
       "      <th>Initial (%)</th>\n",
       "      <th>Buys (%)</th>\n",
       "      <th>After Cashflow (%)</th>\n",
       "      <th>S&amp;P + Bonds &gt;= 50 (%)</th>\n",
       "    </tr>\n",
       "  </thead>\n",
       "  <tbody>\n",
       "    <tr>\n",
       "      <th>0</th>\n",
       "      <td>S &amp; P</td>\n",
       "      <td>14.00</td>\n",
       "      <td>18.50</td>\n",
       "      <td>5.32</td>\n",
       "      <td>0.00</td>\n",
       "      <td>20</td>\n",
       "      <td>0.00</td>\n",
       "      <td>16.67</td>\n",
       "      <td>25.89</td>\n",
       "    </tr>\n",
       "    <tr>\n",
       "      <th>1</th>\n",
       "      <td>Bonds</td>\n",
       "      <td>6.50</td>\n",
       "      <td>5.00</td>\n",
       "      <td>36.98</td>\n",
       "      <td>30.86</td>\n",
       "      <td>30</td>\n",
       "      <td>30.95</td>\n",
       "      <td>30.16</td>\n",
       "      <td>24.11</td>\n",
       "    </tr>\n",
       "    <tr>\n",
       "      <th>2</th>\n",
       "      <td>Canadian</td>\n",
       "      <td>11.00</td>\n",
       "      <td>16.00</td>\n",
       "      <td>-3.63</td>\n",
       "      <td>0.00</td>\n",
       "      <td>0</td>\n",
       "      <td>-0.00</td>\n",
       "      <td>-0.00</td>\n",
       "      <td>-0.00</td>\n",
       "    </tr>\n",
       "    <tr>\n",
       "      <th>3</th>\n",
       "      <td>Japan</td>\n",
       "      <td>14.00</td>\n",
       "      <td>23.00</td>\n",
       "      <td>6.90</td>\n",
       "      <td>2.68</td>\n",
       "      <td>20</td>\n",
       "      <td>0.00</td>\n",
       "      <td>16.67</td>\n",
       "      <td>-0.00</td>\n",
       "    </tr>\n",
       "    <tr>\n",
       "      <th>4</th>\n",
       "      <td>Emerging Markets</td>\n",
       "      <td>16.00</td>\n",
       "      <td>30.00</td>\n",
       "      <td>-11.96</td>\n",
       "      <td>0.00</td>\n",
       "      <td>0</td>\n",
       "      <td>-0.00</td>\n",
       "      <td>-0.00</td>\n",
       "      <td>-0.00</td>\n",
       "    </tr>\n",
       "    <tr>\n",
       "      <th>5</th>\n",
       "      <td>Pacific</td>\n",
       "      <td>18.00</td>\n",
       "      <td>26.00</td>\n",
       "      <td>33.68</td>\n",
       "      <td>32.10</td>\n",
       "      <td>10</td>\n",
       "      <td>49.96</td>\n",
       "      <td>16.66</td>\n",
       "      <td>30.81</td>\n",
       "    </tr>\n",
       "    <tr>\n",
       "      <th>6</th>\n",
       "      <td>Europe</td>\n",
       "      <td>12.00</td>\n",
       "      <td>20.00</td>\n",
       "      <td>-11.51</td>\n",
       "      <td>0.00</td>\n",
       "      <td>0</td>\n",
       "      <td>-0.00</td>\n",
       "      <td>-0.00</td>\n",
       "      <td>-0.00</td>\n",
       "    </tr>\n",
       "    <tr>\n",
       "      <th>7</th>\n",
       "      <td>Small Stocks</td>\n",
       "      <td>17.00</td>\n",
       "      <td>24.00</td>\n",
       "      <td>44.22</td>\n",
       "      <td>34.35</td>\n",
       "      <td>20</td>\n",
       "      <td>19.09</td>\n",
       "      <td>19.85</td>\n",
       "      <td>19.19</td>\n",
       "    </tr>\n",
       "  </tbody>\n",
       "</table>\n",
       "</div>"
      ],
      "text/plain": [
       "              Label  Return (%)  STD (%)  Optimal (%)  No Shorts (%)  \\\n",
       "0             S & P       14.00    18.50         5.32           0.00   \n",
       "1             Bonds        6.50     5.00        36.98          30.86   \n",
       "2          Canadian       11.00    16.00        -3.63           0.00   \n",
       "3             Japan       14.00    23.00         6.90           2.68   \n",
       "4  Emerging Markets       16.00    30.00       -11.96           0.00   \n",
       "5           Pacific       18.00    26.00        33.68          32.10   \n",
       "6            Europe       12.00    20.00       -11.51           0.00   \n",
       "7      Small Stocks       17.00    24.00        44.22          34.35   \n",
       "\n",
       "   Initial (%)  Buys (%)  After Cashflow (%)  S&P + Bonds >= 50 (%)  \n",
       "0           20      0.00               16.67                  25.89  \n",
       "1           30     30.95               30.16                  24.11  \n",
       "2            0     -0.00               -0.00                  -0.00  \n",
       "3           20      0.00               16.67                  -0.00  \n",
       "4            0     -0.00               -0.00                  -0.00  \n",
       "5           10     49.96               16.66                  30.81  \n",
       "6            0     -0.00               -0.00                  -0.00  \n",
       "7           20     19.09               19.85                  19.19  "
      ]
     },
     "execution_count": 29,
     "metadata": {},
     "output_type": "execute_result"
    }
   ],
   "source": [
    "if sol['status']=='infeasible':\n",
    "    print('> Problem is infeasible')\n",
    "    assets['S&P + Bonds >= 50 (%)'] = np.nan\n",
    "else:\n",
    "    print('> Problem is feasible')\n",
    "    print('  * mu = {:.3f}%, std = {:.3f}% ({})'.format(mu, math.sqrt(sol['obj']), sol['status']))\n",
    "    x = np.array(sol['x'])\n",
    "    assets['S&P + Bonds >= 50 (%)'] = 100*x\n",
    "assets"
   ]
  },
  {
   "cell_type": "markdown",
   "metadata": {},
   "source": [
    "satisfies the constraint that"
   ]
  },
  {
   "cell_type": "code",
   "execution_count": 30,
   "metadata": {},
   "outputs": [
    {
     "data": {
      "text/plain": [
       "50.000000000000014"
      ]
     },
     "execution_count": 30,
     "metadata": {},
     "output_type": "execute_result"
    }
   ],
   "source": [
    "assets['S&P + Bonds >= 50 (%)'][0:2].sum()"
   ]
  },
  {
   "cell_type": "markdown",
   "metadata": {},
   "source": [
    "is not less than 50%.\n",
    "\n",
    "# The efficient frontier\n",
    "\n",
    "The efficient frontier is the set of minimal variance portfolios obtained after varying the expected returns. A graphical representation of the frontier can be ploter in terms of the expected return versus risk (variance) for a given asset data. The Optimize API has a method for obtaining efficient frontiers by successively calculting optimal portfolios for varying levels of return. By default, the smallest return is the one attained by the minimum variance portfolio, and the largest return is that of the largest individual asset.\n",
    "\n",
    "Calling the frontier api method is very simlar to performing a single portfolio optimization. The following call:"
   ]
  },
  {
   "cell_type": "code",
   "execution_count": 31,
   "metadata": {
    "collapsed": true
   },
   "outputs": [],
   "source": [
    "# vector of expected returns\n",
    "r = assets['Return (%)'].values\n",
    "\n",
    "# covariance matrix\n",
    "sigmas = np.diag(assets['STD (%)'].values)\n",
    "Q = sigmas @ cov.values @ sigmas\n",
    "\n",
    "# options\n",
    "options = {\n",
    "    'number_of_points': 20\n",
    "}\n",
    "\n",
    "# prepare data for submitting request to api\n",
    "data = {\n",
    "    'Q': Q.tolist(),\n",
    "    'r': r.tolist(),\n",
    "    'options': options\n",
    "}\n",
    "sol = client.call('frontier', data)"
   ]
  },
  {
   "cell_type": "markdown",
   "metadata": {},
   "source": [
    "will produce 20 points on the efficient frontier of the classic Markowitz portfolio optimization propblem, that is one without any additional constraints on the portfolio or the positions:"
   ]
  },
  {
   "cell_type": "code",
   "execution_count": 32,
   "metadata": {
    "scrolled": true
   },
   "outputs": [
    {
     "name": "stdout",
     "output_type": "stream",
     "text": [
      "  1. mu = 6.413%, std = 3.913% (optimal)\n",
      "  2. mu = 7.023%, std = 4.036% (optimal)\n",
      "  3. mu = 7.633%, std = 4.386% (optimal)\n",
      "  4. mu = 8.243%, std = 4.913% (optimal)\n",
      "  5. mu = 8.853%, std = 5.569% (optimal)\n",
      "  6. mu = 9.463%, std = 6.312% (optimal)\n",
      "  7. mu = 10.072%, std = 7.116% (optimal)\n",
      "  8. mu = 10.682%, std = 7.962% (optimal)\n",
      "  9. mu = 11.292%, std = 8.838% (optimal)\n",
      "  10. mu = 11.902%, std = 9.736% (optimal)\n",
      "  11. mu = 12.512%, std = 10.651% (optimal)\n",
      "  12. mu = 13.121%, std = 11.578% (optimal)\n",
      "  13. mu = 13.731%, std = 12.515% (optimal)\n",
      "  14. mu = 14.341%, std = 13.459% (optimal)\n",
      "  15. mu = 14.951%, std = 14.410% (optimal)\n",
      "  16. mu = 15.561%, std = 15.366% (optimal)\n",
      "  17. mu = 16.171%, std = 16.326% (optimal)\n",
      "  18. mu = 16.780%, std = 17.289% (optimal)\n",
      "  19. mu = 17.390%, std = 18.256% (optimal)\n",
      "  20. mu = 18.000%, std = 19.224% (optimal)\n"
     ]
    }
   ],
   "source": [
    "frontier = sol['frontier']\n",
    "m = len(frontier)\n",
    "mu0 = np.zeros((m,))\n",
    "var0 = np.zeros((m,))\n",
    "pos0 = np.zeros((m, n))\n",
    "for i, e in enumerate(frontier):\n",
    "    point = e['sol']\n",
    "    mu0[i] = e['mu']\n",
    "    var0[i] = point['obj']\n",
    "    pos0[i, :] = point['x']\n",
    "    if point['obj'] is not None:\n",
    "        print('  {}. mu = {:.3f}%, std = {:.3f}% ({})'.format(i+1, mu0[i], math.sqrt(var0[i]), point['status']))\n",
    "    else:\n",
    "        print('  {}. mu = {:.3f}%, std = --- ({})'.format(i+1, mu0[i], point['status']))"
   ]
  },
  {
   "cell_type": "markdown",
   "metadata": {},
   "source": [
    "These points can be combine to produce a plot of the frontier:"
   ]
  },
  {
   "cell_type": "code",
   "execution_count": 33,
   "metadata": {
    "collapsed": true
   },
   "outputs": [],
   "source": [
    "rmax = np.max(r)\n",
    "rmin = np.min((np.min(r), np.min(mu0)))\n",
    "dr = rmax - rmin\n",
    "colors = np.array(plt.rcParams['axes.prop_cycle'].by_key()['color'])"
   ]
  },
  {
   "cell_type": "code",
   "execution_count": 34,
   "metadata": {
    "scrolled": false
   },
   "outputs": [
    {
     "data": {
      "image/png": "[encoded data removed]",
      "text/plain": [
       "<matplotlib.figure.Figure at 0x2bccfbcb438>"
      ]
     },
     "metadata": {},
     "output_type": "display_data"
    }
   ],
   "source": [
    "# plot frontier\n",
    "xlim = ((rmin-0.1*dr), (rmax+0.1*dr))\n",
    "\n",
    "for i, label in enumerate(assets['Label'].values): \n",
    "    plt.plot(np.sqrt(Q[i,i]), r[i], 'x', color=colors[np.mod(i, len(colors))])\n",
    "plt.plot(np.sqrt(var0), mu0, 'k')\n",
    "plt.xlabel('std (%)')\n",
    "plt.ylabel('return (%)')\n",
    "plt.title('Efficient frontier')\n",
    "plt.ylim(xlim)\n",
    "plt.legend(assets['Label'].values)\n",
    "plt.grid()\n",
    "plt.show()"
   ]
  },
  {
   "cell_type": "markdown",
   "metadata": {},
   "source": [
    "## The frontier without short sales\n",
    "\n",
    "The Optimize API let's one add any constraint to the calculation of the points in the frontier.\n",
    "\n",
    "For example:"
   ]
  },
  {
   "cell_type": "code",
   "execution_count": 35,
   "metadata": {
    "collapsed": true
   },
   "outputs": [],
   "source": [
    "# vector of expected returns\n",
    "r = assets['Return (%)'].values\n",
    "\n",
    "# covariance matrix\n",
    "sigmas = np.diag(assets['STD (%)'].values)\n",
    "Q = sigmas @ cov.values @ sigmas\n",
    "\n",
    "# options\n",
    "options = {\n",
    "    'number_of_points': 20,\n",
    "    'short': False\n",
    "}\n",
    "\n",
    "# prepare data for submitting request to api\n",
    "data = {\n",
    "    'Q': Q.tolist(),\n",
    "    'r': r.tolist(),\n",
    "    'options': options\n",
    "}\n",
    "sol = client.call('frontier', data)"
   ]
  },
  {
   "cell_type": "markdown",
   "metadata": {},
   "source": [
    "will produce 20 points on the efficient frontier obtained for portfolios for which short sales are not permitted: "
   ]
  },
  {
   "cell_type": "code",
   "execution_count": 36,
   "metadata": {
    "scrolled": true
   },
   "outputs": [
    {
     "name": "stdout",
     "output_type": "stream",
     "text": [
      "  1. mu = 6.889%, std = 4.874% (optimal)\n",
      "  2. mu = 7.474%, std = 5.025% (optimal)\n",
      "  3. mu = 8.059%, std = 5.382% (optimal)\n",
      "  4. mu = 8.644%, std = 5.886% (optimal)\n",
      "  5. mu = 9.228%, std = 6.502% (optimal)\n",
      "  6. mu = 9.813%, std = 7.204% (optimal)\n",
      "  7. mu = 10.398%, std = 7.969% (optimal)\n",
      "  8. mu = 10.983%, std = 8.779% (optimal)\n",
      "  9. mu = 11.568%, std = 9.625% (optimal)\n",
      "  10. mu = 12.152%, std = 10.497% (optimal)\n",
      "  11. mu = 12.737%, std = 11.389% (optimal)\n",
      "  12. mu = 13.322%, std = 12.297% (optimal)\n",
      "  13. mu = 13.907%, std = 13.217% (optimal)\n",
      "  14. mu = 14.491%, std = 14.148% (optimal)\n",
      "  15. mu = 15.076%, std = 15.087% (optimal)\n",
      "  16. mu = 15.661%, std = 16.032% (optimal)\n",
      "  17. mu = 16.246%, std = 16.984% (optimal)\n",
      "  18. mu = 16.830%, std = 17.940% (optimal)\n",
      "  19. mu = 17.415%, std = 18.900% (optimal)\n",
      "  20. mu = 18.000%, std = 26.000% (optimal)\n"
     ]
    }
   ],
   "source": [
    "frontier = sol['frontier']\n",
    "m = len(frontier)\n",
    "mu1 = np.zeros((m,))\n",
    "var1 = np.zeros((m,))\n",
    "pos1 = np.zeros((m, n))\n",
    "for i, e in enumerate(frontier):\n",
    "    point = e['sol']\n",
    "    mu1[i] = e['mu']\n",
    "    var1[i] = point['obj']\n",
    "    pos1[i, :] = point['x']\n",
    "    if point['obj'] is not None:\n",
    "        print('  {}. mu = {:.3f}%, std = {:.3f}% ({})'.format(i+1, mu1[i], math.sqrt(var1[i]), point['status']))\n",
    "    else:\n",
    "        print('  {}. mu = {:.3f}%, std = --- ({})'.format(i+1, mu1[i], point['status']))"
   ]
  },
  {
   "cell_type": "markdown",
   "metadata": {},
   "source": [
    "Again these points can be combined to produce a plot of the frontier:"
   ]
  },
  {
   "cell_type": "code",
   "execution_count": 37,
   "metadata": {
    "collapsed": true
   },
   "outputs": [],
   "source": [
    "rmax = np.max(r)\n",
    "rmin = np.min((np.min(r), np.min(mu0)))\n",
    "dr = rmax - rmin\n",
    "colors = np.array(plt.rcParams['axes.prop_cycle'].by_key()['color'])"
   ]
  },
  {
   "cell_type": "code",
   "execution_count": 38,
   "metadata": {
    "scrolled": true
   },
   "outputs": [
    {
     "data": {
      "image/png": "[encoded data removed]",
      "text/plain": [
       "<matplotlib.figure.Figure at 0x2bccfedb160>"
      ]
     },
     "metadata": {},
     "output_type": "display_data"
    }
   ],
   "source": [
    "# plot frontier\n",
    "ylim = ((rmin-0.1*dr), (rmax+0.1*dr))\n",
    "\n",
    "for i, label in enumerate(assets['Label'].values): \n",
    "    plt.plot(np.sqrt(Q[i,i]), r[i], 'x', color=colors[np.mod(i, len(colors))])\n",
    "plt.plot(np.sqrt(var0), mu0, 'k--')\n",
    "plt.plot(np.sqrt(var1), mu1, 'k')\n",
    "plt.xlabel('std (%)')\n",
    "plt.ylabel('return (%)')\n",
    "plt.title('Efficient frontier')\n",
    "plt.ylim(ylim)\n",
    "plt.legend(assets['Label'].values)\n",
    "plt.grid()\n",
    "plt.show()"
   ]
  },
  {
   "cell_type": "markdown",
   "metadata": {},
   "source": [
    "We have combined in this plot also the standard frontier with short sales (dashed) for comparison."
   ]
  },
  {
   "cell_type": "markdown",
   "metadata": {},
   "source": [
    "## The frontier with general constraints"
   ]
  },
  {
   "cell_type": "markdown",
   "metadata": {},
   "source": [
    "All options available for calculation of optimal portfolios also apply to the frontier.\n",
    "\n",
    "For example, the requirement of no short sales plus at least 50% on S & P and Bonds can be applied to the frontier as follows:"
   ]
  },
  {
   "cell_type": "code",
   "execution_count": 39,
   "metadata": {
    "collapsed": true
   },
   "outputs": [],
   "source": [
    "# S & P + Bonds >= 50%\n",
    "set1 = {'label': 's&p_bonds_set', 'indices': [0, 1]}\n",
    "constraint1 = {'label': 's&p_bonds', 'set': 's&p_bonds_set', 'bounds': [.5, np.inf]}\n",
    "\n",
    "# options\n",
    "options = {\n",
    "    'number_of_points': 20,\n",
    "    'short': False \n",
    "}\n",
    "\n",
    "# prepare data for submitting request to api\n",
    "data = {\n",
    "    'Q': Q.tolist(),\n",
    "    'r': r.tolist(),\n",
    "    'mu': mu,\n",
    "    'sets': [set1],\n",
    "    'constraints': [constraint1],\n",
    "    'options': options\n",
    "}\n",
    "sol = client.call('frontier', data)"
   ]
  },
  {
   "cell_type": "code",
   "execution_count": 40,
   "metadata": {
    "scrolled": true
   },
   "outputs": [
    {
     "name": "stdout",
     "output_type": "stream",
     "text": [
      "  1. mu = 6.889%, std = 4.874% (optimal)\n",
      "  2. mu = 7.474%, std = 5.025% (optimal)\n",
      "  3. mu = 8.059%, std = 5.382% (optimal)\n",
      "  4. mu = 8.644%, std = 5.886% (optimal)\n",
      "  5. mu = 9.228%, std = 6.502% (optimal)\n",
      "  6. mu = 9.813%, std = 7.204% (optimal)\n",
      "  7. mu = 10.398%, std = 7.969% (optimal)\n",
      "  8. mu = 10.983%, std = 8.779% (optimal)\n",
      "  9. mu = 11.568%, std = 9.625% (optimal)\n",
      "  10. mu = 12.152%, std = 10.519% (optimal)\n",
      "  11. mu = 12.737%, std = 11.487% (optimal)\n",
      "  12. mu = 13.322%, std = 12.497% (optimal)\n",
      "  13. mu = 13.907%, std = 13.541% (optimal)\n",
      "  14. mu = 14.491%, std = 14.611% (optimal)\n",
      "  15. mu = 15.076%, std = 15.702% (optimal)\n",
      "  16. mu = 15.661%, std = 16.811% (optimal)\n",
      "  17. mu = 16.246%, std = --- (infeasible)\n",
      "  18. mu = 16.830%, std = --- (infeasible)\n",
      "  19. mu = 17.415%, std = --- (infeasible)\n",
      "  20. mu = 18.000%, std = --- (infeasible)\n"
     ]
    }
   ],
   "source": [
    "frontier = sol['frontier']\n",
    "m = len(frontier)\n",
    "mu2 = np.zeros((m,))\n",
    "var2 = np.zeros((m,))\n",
    "pos2 = np.zeros((m, n))\n",
    "for i, e in enumerate(frontier):\n",
    "    point = e['sol']\n",
    "    mu2[i] = e['mu']\n",
    "    var2[i] = point['obj']\n",
    "    pos2[i, :] = point['x']\n",
    "    if point['obj'] is not None:\n",
    "        print('  {}. mu = {:.3f}%, std = {:.3f}% ({})'.format(i+1, mu2[i], math.sqrt(var2[i]), point['status']))\n",
    "    else:\n",
    "        print('  {}. mu = {:.3f}%, std = --- ({})'.format(i+1, mu2[i], point['status']))"
   ]
  },
  {
   "cell_type": "markdown",
   "metadata": {},
   "source": [
    "Note how the additional constraints lead to infeasible portfolios for higher levels of return.\n",
    "\n",
    "This frontier's graphical representation can be calculated as in:"
   ]
  },
  {
   "cell_type": "code",
   "execution_count": 41,
   "metadata": {
    "collapsed": true
   },
   "outputs": [],
   "source": [
    "rmax = np.max(r)\n",
    "rmin = np.min((np.min(r), np.min(mu0)))\n",
    "dr = rmax - rmin\n",
    "colors = np.array(plt.rcParams['axes.prop_cycle'].by_key()['color'])"
   ]
  },
  {
   "cell_type": "code",
   "execution_count": 42,
   "metadata": {
    "scrolled": true
   },
   "outputs": [
    {
     "data": {
      "image/png": "[encoded data removed]",
      "text/plain": [
       "<matplotlib.figure.Figure at 0x2bcd1189710>"
      ]
     },
     "metadata": {},
     "output_type": "display_data"
    }
   ],
   "source": [
    "# plot frontier\n",
    "ylim = ((rmin-0.1*dr), (rmax+0.1*dr))\n",
    "\n",
    "for i, label in enumerate(assets['Label'].values): \n",
    "    plt.plot(np.sqrt(Q[i,i]), r[i], 'x', color=colors[np.mod(i, len(colors))])\n",
    "plt.plot(np.sqrt(var0), mu0, 'k--')\n",
    "plt.plot(np.sqrt(var1), mu1, 'k:')\n",
    "plt.plot(np.sqrt(var2), mu2, 'k')\n",
    "plt.xlabel('std (%)')\n",
    "plt.ylabel('return (%)')\n",
    "plt.title('Efficient frontier')\n",
    "plt.ylim(ylim)\n",
    "plt.legend(assets['Label'].values)\n",
    "plt.grid()\n",
    "plt.show()"
   ]
  },
  {
   "cell_type": "markdown",
   "metadata": {},
   "source": [
    "## A strongly constrained frontier\n",
    "\n",
    "Consider now the cashflow problem we discussed above in which one would like to invest additional funds to improve their returns without selling any assets. The corresponding frontier can be obtained as follows:"
   ]
  },
  {
   "cell_type": "code",
   "execution_count": 43,
   "metadata": {
    "collapsed": true
   },
   "outputs": [],
   "source": [
    "# initial portfolio\n",
    "x0 = assets['Initial (%)'].values/100\n",
    "\n",
    "# cashflow\n",
    "cashflow = 20/100\n",
    "\n",
    "# options\n",
    "options = {\n",
    "    'number_of_points': 20,\n",
    "    'sell': False\n",
    "}\n",
    "\n",
    "# prepare data for submitting request to api\n",
    "data = {\n",
    "    'Q': Q.tolist(),\n",
    "    'r': r.tolist(),\n",
    "    'x0': x0.tolist(),\n",
    "    'cashflow': cashflow,\n",
    "    'options': options\n",
    "}\n",
    "sol = client.call('frontier', data)"
   ]
  },
  {
   "cell_type": "markdown",
   "metadata": {},
   "source": [
    "Note that in this case many returns lead to infeasible portfolios, and the efficient frontier covers a much smaller range of returns:"
   ]
  },
  {
   "cell_type": "code",
   "execution_count": 44,
   "metadata": {
    "scrolled": true
   },
   "outputs": [
    {
     "name": "stdout",
     "output_type": "stream",
     "text": [
      "  1. mu = 11.708%, std = 10.331% (optimal)\n",
      "  2. mu = 12.039%, std = 10.761% (optimal)\n",
      "  3. mu = 12.371%, std = 11.226% (optimal)\n",
      "  4. mu = 12.702%, std = 11.711% (optimal)\n",
      "  5. mu = 13.033%, std = 12.202% (optimal)\n",
      "  6. mu = 13.364%, std = 12.699% (optimal)\n",
      "  7. mu = 13.695%, std = --- (infeasible)\n",
      "  8. mu = 14.026%, std = --- (infeasible)\n",
      "  9. mu = 14.357%, std = --- (infeasible)\n",
      "  10. mu = 14.689%, std = --- (infeasible)\n",
      "  11. mu = 15.020%, std = --- (infeasible)\n",
      "  12. mu = 15.351%, std = --- (infeasible)\n",
      "  13. mu = 15.682%, std = --- (infeasible)\n",
      "  14. mu = 16.013%, std = --- (infeasible)\n",
      "  15. mu = 16.344%, std = --- (infeasible)\n",
      "  16. mu = 16.675%, std = --- (infeasible)\n",
      "  17. mu = 17.007%, std = --- (infeasible)\n",
      "  18. mu = 17.338%, std = --- (infeasible)\n",
      "  19. mu = 17.669%, std = --- (infeasible)\n",
      "  20. mu = 18.000%, std = --- (infeasible)\n"
     ]
    }
   ],
   "source": [
    "frontier = sol['frontier']\n",
    "m = len(frontier)\n",
    "mu3 = np.zeros((m,))\n",
    "var3 = np.zeros((m,))\n",
    "pos3 = np.zeros((m, n))\n",
    "for i, e in enumerate(frontier):\n",
    "    point = e['sol']\n",
    "    mu3[i] = e['mu']\n",
    "    var3[i] = point['obj']\n",
    "    pos3[i, :] = point['x']\n",
    "    if point['obj'] is not None:\n",
    "        print('  {}. mu = {:.3f}%, std = {:.3f}% ({})'.format(i+1, mu3[i], math.sqrt(var3[i]), point['status']))\n",
    "    else:\n",
    "        print('  {}. mu = {:.3f}%, std = --- ({})'.format(i+1, mu3[i], point['status']))"
   ]
  },
  {
   "cell_type": "markdown",
   "metadata": {},
   "source": [
    "as visualized in the following plot:"
   ]
  },
  {
   "cell_type": "code",
   "execution_count": 45,
   "metadata": {
    "collapsed": true
   },
   "outputs": [],
   "source": [
    "rmax = np.max(r)\n",
    "rmin = np.min((np.min(r), np.min(mu0)))\n",
    "dr = rmax - rmin\n",
    "colors = np.array(plt.rcParams['axes.prop_cycle'].by_key()['color'])"
   ]
  },
  {
   "cell_type": "code",
   "execution_count": 46,
   "metadata": {},
   "outputs": [
    {
     "data": {
      "image/png": "[encoded data removed]",
      "text/plain": [
       "<matplotlib.figure.Figure at 0x2bcd1210e48>"
      ]
     },
     "metadata": {},
     "output_type": "display_data"
    }
   ],
   "source": [
    "# plot frontier\n",
    "ylim = ((rmin-0.1*dr), (rmax+0.1*dr))\n",
    "\n",
    "for i, label in enumerate(assets['Label'].values): \n",
    "    plt.plot(np.sqrt(Q[i,i]), r[i], 'x', color=colors[np.mod(i, len(colors))])\n",
    "plt.plot(np.sqrt(var0), mu0, 'k--')\n",
    "plt.plot(np.sqrt(var1), mu1, 'k:')\n",
    "plt.plot(np.sqrt(var2), mu2, 'k-.')\n",
    "plt.plot(np.sqrt(var3), mu3, 'k')\n",
    "plt.xlabel('std (%)')\n",
    "plt.ylabel('return (%)')\n",
    "plt.title('Efficient frontier')\n",
    "plt.ylim(ylim)\n",
    "plt.legend(assets['Label'].values)\n",
    "plt.grid()\n",
    "plt.show()"
   ]
  },
  {
   "cell_type": "markdown",
   "metadata": {
    "collapsed": true
   },
   "source": [
    "Zooming in:"
   ]
  },
  {
   "cell_type": "code",
   "execution_count": 47,
   "metadata": {},
   "outputs": [
    {
     "data": {
      "image/png": "[encoded data removed]",
      "text/plain": [
       "<matplotlib.figure.Figure at 0x2bcd12b0908>"
      ]
     },
     "metadata": {},
     "output_type": "display_data"
    }
   ],
   "source": [
    "# plot frontier\n",
    "ylim = (11.5, 13.5)\n",
    "xlim = (9, 13)\n",
    "\n",
    "for i, label in enumerate(assets['Label'].values): \n",
    "    plt.plot(np.sqrt(Q[i,i]), r[i], 'x', color=colors[np.mod(i, len(colors))])\n",
    "plt.plot(np.sqrt(var0), mu0, 'k--')\n",
    "plt.plot(np.sqrt(var1), mu1, 'k:')\n",
    "plt.plot(np.sqrt(var2), mu2, 'k-.')\n",
    "plt.plot(np.sqrt(var3), mu3, 'k')\n",
    "plt.xlabel('std (%)')\n",
    "plt.ylabel('return (%)')\n",
    "plt.title('Efficient frontier')\n",
    "plt.ylim(ylim)\n",
    "plt.xlim(xlim)\n",
    "plt.grid()\n",
    "plt.show()"
   ]
  },
  {
   "cell_type": "markdown",
   "metadata": {},
   "source": [
    "helps to visualize the three frontiers.\n",
    "\n",
    "Another interesting visualizion is that of the resulting trades. The following plot shows the frontier, the corresponding positions as a percentage of the total holdings and the corresponding trades as a percentage of the cashflow."
   ]
  },
  {
   "cell_type": "code",
   "execution_count": 48,
   "metadata": {},
   "outputs": [
    {
     "data": {
      "image/png": "[encoded data removed]",
      "text/plain": [
       "<matplotlib.figure.Figure at 0x2bcd1352ac8>"
      ]
     },
     "metadata": {},
     "output_type": "display_data"
    }
   ],
   "source": [
    "mu = mu3\n",
    "var = var3\n",
    "pos = pos3\n",
    "trades = (pos - x0) / cashflow\n",
    "\n",
    "# plot frontier\n",
    "plt.figure(figsize=(10, 10))\n",
    "\n",
    "ax = plt.subplot(3, 1, 1)\n",
    "for i, label in enumerate(assets['Label'].values): \n",
    "    plt.plot(r[i], np.sqrt(Q[i,i]), 'x', color=colors[np.mod(i, len(colors))])\n",
    "ax.plot(mu0, np.sqrt(var0), 'k--')\n",
    "ax.plot(mu1, np.sqrt(var1), 'k:')\n",
    "ax.plot(mu2, np.sqrt(var2), 'k-.')\n",
    "ax.plot(mu, np.sqrt(var), 'k')\n",
    "ax.set_ylabel('std (%)')\n",
    "ax.set_title('Efficient frontier')\n",
    "ax.set_xlim(ylim)\n",
    "ax.set_ylim(xlim)\n",
    "ax.grid()\n",
    "\n",
    "ax = plt.subplot(3, 1, 2)\n",
    "ax.plot(mu, 100*pos)\n",
    "ax.set_ylabel('positions')\n",
    "ax.set_title('Positions')\n",
    "ax.set_xlim(ylim)\n",
    "ax.legend(assets['Label'].values)\n",
    "ax.grid()\n",
    "\n",
    "ax = plt.subplot(3, 1, 3)\n",
    "ax.plot(mu, 100*trades)\n",
    "ax.set_xlabel('return (%)')\n",
    "ax.set_ylabel('trades')\n",
    "ax.set_title('Buy/Sell')\n",
    "ax.set_xlim(ylim)\n",
    "ax.grid()\n",
    "\n",
    "plt.subplots_adjust(hspace=.4)\n",
    "plt.show()"
   ]
  },
  {
   "cell_type": "markdown",
   "metadata": {
    "collapsed": true
   },
   "source": [
    "Note that the frontier in this case is represented with the coordinates reversed, that is risk versus return, as opposed to the standard return versus risk."
   ]
  }
 ],
 "metadata": {
  "kernelspec": {
   "display_name": "Python 3",
   "language": "python",
   "name": "python3"
  },
  "language_info": {
   "codemirror_mode": {
    "name": "ipython",
    "version": 3
   },
   "file_extension": ".py",
   "mimetype": "text/x-python",
   "name": "python",
   "nbconvert_exporter": "python",
   "pygments_lexer": "ipython3",
   "version": "3.6.3"
  }
 },
 "nbformat": 4,
 "nbformat_minor": 1
}
